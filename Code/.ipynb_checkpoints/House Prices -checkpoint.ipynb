{
 "cells": [
  {
   "cell_type": "markdown",
   "metadata": {},
   "source": [
    "# Predicting House Prices\n",
    "\n",
    "For more information regarding this dataset, visit: \n",
    "https://www.kaggle.com/c/house-prices-advanced-regression-techniques/data.\n",
    "\n",
    "This script will contain an initial exploration of the data, followed by some necessary preprocessing, \n",
    "feature enineering and selection, and finally the models and results.\n",
    "\n",
    "## Some general information regarding the data\n",
    "\n",
    "The data is a set especially put together for learning machine learning techniques. The main purpose is to predict the price of a house. There are 80 features provided which can help estimating the price. There are a total of 1460 observations to build model with. These will be tested on a set of 1459 observations. Lets start by importing the dataset and looking at the different features we are working with in general.\n"
   ]
  },
  {
   "cell_type": "code",
   "execution_count": 1,
   "metadata": {},
   "outputs": [],
   "source": [
    "#call libraries\n",
    "import pandas as pd\n",
    "import matplotlib.pyplot as plt\n",
    "import numpy as np\n",
    "import pylab\n",
    "import math\n",
    "import seaborn as sns\n",
    "\n",
    "# Set default matplot figure size\n",
    "pylab.rcParams['figure.figsize'] = (6.5, 5.0)\n",
    "\n",
    "#Turn off pandas warning for changing variables & future warnings\n",
    "import warnings\n",
    "warnings.simplefilter(action='ignore', category=FutureWarning)\n",
    "pd.options.mode.chained_assignment = None"
   ]
  },
  {
   "cell_type": "code",
   "execution_count": 2,
   "metadata": {},
   "outputs": [],
   "source": [
    "#set random seed\n",
    "np.random.seed(123)"
   ]
  },
  {
   "cell_type": "code",
   "execution_count": 3,
   "metadata": {},
   "outputs": [
    {
     "data": {
      "text/html": [
       "<div>\n",
       "<style scoped>\n",
       "    .dataframe tbody tr th:only-of-type {\n",
       "        vertical-align: middle;\n",
       "    }\n",
       "\n",
       "    .dataframe tbody tr th {\n",
       "        vertical-align: top;\n",
       "    }\n",
       "\n",
       "    .dataframe thead th {\n",
       "        text-align: right;\n",
       "    }\n",
       "</style>\n",
       "<table border=\"1\" class=\"dataframe\">\n",
       "  <thead>\n",
       "    <tr style=\"text-align: right;\">\n",
       "      <th></th>\n",
       "      <th>Id</th>\n",
       "      <th>MSSubClass</th>\n",
       "      <th>MSZoning</th>\n",
       "      <th>LotFrontage</th>\n",
       "      <th>LotArea</th>\n",
       "      <th>Street</th>\n",
       "      <th>Alley</th>\n",
       "      <th>LotShape</th>\n",
       "      <th>LandContour</th>\n",
       "      <th>Utilities</th>\n",
       "      <th>...</th>\n",
       "      <th>PoolArea</th>\n",
       "      <th>PoolQC</th>\n",
       "      <th>Fence</th>\n",
       "      <th>MiscFeature</th>\n",
       "      <th>MiscVal</th>\n",
       "      <th>MoSold</th>\n",
       "      <th>YrSold</th>\n",
       "      <th>SaleType</th>\n",
       "      <th>SaleCondition</th>\n",
       "      <th>SalePrice</th>\n",
       "    </tr>\n",
       "  </thead>\n",
       "  <tbody>\n",
       "    <tr>\n",
       "      <th>0</th>\n",
       "      <td>1</td>\n",
       "      <td>60</td>\n",
       "      <td>RL</td>\n",
       "      <td>65.0</td>\n",
       "      <td>8450</td>\n",
       "      <td>Pave</td>\n",
       "      <td>NaN</td>\n",
       "      <td>Reg</td>\n",
       "      <td>Lvl</td>\n",
       "      <td>AllPub</td>\n",
       "      <td>...</td>\n",
       "      <td>0</td>\n",
       "      <td>NaN</td>\n",
       "      <td>NaN</td>\n",
       "      <td>NaN</td>\n",
       "      <td>0</td>\n",
       "      <td>2</td>\n",
       "      <td>2008</td>\n",
       "      <td>WD</td>\n",
       "      <td>Normal</td>\n",
       "      <td>208500</td>\n",
       "    </tr>\n",
       "    <tr>\n",
       "      <th>1</th>\n",
       "      <td>2</td>\n",
       "      <td>20</td>\n",
       "      <td>RL</td>\n",
       "      <td>80.0</td>\n",
       "      <td>9600</td>\n",
       "      <td>Pave</td>\n",
       "      <td>NaN</td>\n",
       "      <td>Reg</td>\n",
       "      <td>Lvl</td>\n",
       "      <td>AllPub</td>\n",
       "      <td>...</td>\n",
       "      <td>0</td>\n",
       "      <td>NaN</td>\n",
       "      <td>NaN</td>\n",
       "      <td>NaN</td>\n",
       "      <td>0</td>\n",
       "      <td>5</td>\n",
       "      <td>2007</td>\n",
       "      <td>WD</td>\n",
       "      <td>Normal</td>\n",
       "      <td>181500</td>\n",
       "    </tr>\n",
       "    <tr>\n",
       "      <th>2</th>\n",
       "      <td>3</td>\n",
       "      <td>60</td>\n",
       "      <td>RL</td>\n",
       "      <td>68.0</td>\n",
       "      <td>11250</td>\n",
       "      <td>Pave</td>\n",
       "      <td>NaN</td>\n",
       "      <td>IR1</td>\n",
       "      <td>Lvl</td>\n",
       "      <td>AllPub</td>\n",
       "      <td>...</td>\n",
       "      <td>0</td>\n",
       "      <td>NaN</td>\n",
       "      <td>NaN</td>\n",
       "      <td>NaN</td>\n",
       "      <td>0</td>\n",
       "      <td>9</td>\n",
       "      <td>2008</td>\n",
       "      <td>WD</td>\n",
       "      <td>Normal</td>\n",
       "      <td>223500</td>\n",
       "    </tr>\n",
       "    <tr>\n",
       "      <th>3</th>\n",
       "      <td>4</td>\n",
       "      <td>70</td>\n",
       "      <td>RL</td>\n",
       "      <td>60.0</td>\n",
       "      <td>9550</td>\n",
       "      <td>Pave</td>\n",
       "      <td>NaN</td>\n",
       "      <td>IR1</td>\n",
       "      <td>Lvl</td>\n",
       "      <td>AllPub</td>\n",
       "      <td>...</td>\n",
       "      <td>0</td>\n",
       "      <td>NaN</td>\n",
       "      <td>NaN</td>\n",
       "      <td>NaN</td>\n",
       "      <td>0</td>\n",
       "      <td>2</td>\n",
       "      <td>2006</td>\n",
       "      <td>WD</td>\n",
       "      <td>Abnorml</td>\n",
       "      <td>140000</td>\n",
       "    </tr>\n",
       "    <tr>\n",
       "      <th>4</th>\n",
       "      <td>5</td>\n",
       "      <td>60</td>\n",
       "      <td>RL</td>\n",
       "      <td>84.0</td>\n",
       "      <td>14260</td>\n",
       "      <td>Pave</td>\n",
       "      <td>NaN</td>\n",
       "      <td>IR1</td>\n",
       "      <td>Lvl</td>\n",
       "      <td>AllPub</td>\n",
       "      <td>...</td>\n",
       "      <td>0</td>\n",
       "      <td>NaN</td>\n",
       "      <td>NaN</td>\n",
       "      <td>NaN</td>\n",
       "      <td>0</td>\n",
       "      <td>12</td>\n",
       "      <td>2008</td>\n",
       "      <td>WD</td>\n",
       "      <td>Normal</td>\n",
       "      <td>250000</td>\n",
       "    </tr>\n",
       "    <tr>\n",
       "      <th>5</th>\n",
       "      <td>6</td>\n",
       "      <td>50</td>\n",
       "      <td>RL</td>\n",
       "      <td>85.0</td>\n",
       "      <td>14115</td>\n",
       "      <td>Pave</td>\n",
       "      <td>NaN</td>\n",
       "      <td>IR1</td>\n",
       "      <td>Lvl</td>\n",
       "      <td>AllPub</td>\n",
       "      <td>...</td>\n",
       "      <td>0</td>\n",
       "      <td>NaN</td>\n",
       "      <td>MnPrv</td>\n",
       "      <td>Shed</td>\n",
       "      <td>700</td>\n",
       "      <td>10</td>\n",
       "      <td>2009</td>\n",
       "      <td>WD</td>\n",
       "      <td>Normal</td>\n",
       "      <td>143000</td>\n",
       "    </tr>\n",
       "    <tr>\n",
       "      <th>6</th>\n",
       "      <td>7</td>\n",
       "      <td>20</td>\n",
       "      <td>RL</td>\n",
       "      <td>75.0</td>\n",
       "      <td>10084</td>\n",
       "      <td>Pave</td>\n",
       "      <td>NaN</td>\n",
       "      <td>Reg</td>\n",
       "      <td>Lvl</td>\n",
       "      <td>AllPub</td>\n",
       "      <td>...</td>\n",
       "      <td>0</td>\n",
       "      <td>NaN</td>\n",
       "      <td>NaN</td>\n",
       "      <td>NaN</td>\n",
       "      <td>0</td>\n",
       "      <td>8</td>\n",
       "      <td>2007</td>\n",
       "      <td>WD</td>\n",
       "      <td>Normal</td>\n",
       "      <td>307000</td>\n",
       "    </tr>\n",
       "    <tr>\n",
       "      <th>7</th>\n",
       "      <td>8</td>\n",
       "      <td>60</td>\n",
       "      <td>RL</td>\n",
       "      <td>NaN</td>\n",
       "      <td>10382</td>\n",
       "      <td>Pave</td>\n",
       "      <td>NaN</td>\n",
       "      <td>IR1</td>\n",
       "      <td>Lvl</td>\n",
       "      <td>AllPub</td>\n",
       "      <td>...</td>\n",
       "      <td>0</td>\n",
       "      <td>NaN</td>\n",
       "      <td>NaN</td>\n",
       "      <td>Shed</td>\n",
       "      <td>350</td>\n",
       "      <td>11</td>\n",
       "      <td>2009</td>\n",
       "      <td>WD</td>\n",
       "      <td>Normal</td>\n",
       "      <td>200000</td>\n",
       "    </tr>\n",
       "    <tr>\n",
       "      <th>8</th>\n",
       "      <td>9</td>\n",
       "      <td>50</td>\n",
       "      <td>RM</td>\n",
       "      <td>51.0</td>\n",
       "      <td>6120</td>\n",
       "      <td>Pave</td>\n",
       "      <td>NaN</td>\n",
       "      <td>Reg</td>\n",
       "      <td>Lvl</td>\n",
       "      <td>AllPub</td>\n",
       "      <td>...</td>\n",
       "      <td>0</td>\n",
       "      <td>NaN</td>\n",
       "      <td>NaN</td>\n",
       "      <td>NaN</td>\n",
       "      <td>0</td>\n",
       "      <td>4</td>\n",
       "      <td>2008</td>\n",
       "      <td>WD</td>\n",
       "      <td>Abnorml</td>\n",
       "      <td>129900</td>\n",
       "    </tr>\n",
       "    <tr>\n",
       "      <th>9</th>\n",
       "      <td>10</td>\n",
       "      <td>190</td>\n",
       "      <td>RL</td>\n",
       "      <td>50.0</td>\n",
       "      <td>7420</td>\n",
       "      <td>Pave</td>\n",
       "      <td>NaN</td>\n",
       "      <td>Reg</td>\n",
       "      <td>Lvl</td>\n",
       "      <td>AllPub</td>\n",
       "      <td>...</td>\n",
       "      <td>0</td>\n",
       "      <td>NaN</td>\n",
       "      <td>NaN</td>\n",
       "      <td>NaN</td>\n",
       "      <td>0</td>\n",
       "      <td>1</td>\n",
       "      <td>2008</td>\n",
       "      <td>WD</td>\n",
       "      <td>Normal</td>\n",
       "      <td>118000</td>\n",
       "    </tr>\n",
       "  </tbody>\n",
       "</table>\n",
       "<p>10 rows × 81 columns</p>\n",
       "</div>"
      ],
      "text/plain": [
       "   Id  MSSubClass MSZoning  LotFrontage  LotArea Street Alley LotShape  \\\n",
       "0   1          60       RL         65.0     8450   Pave   NaN      Reg   \n",
       "1   2          20       RL         80.0     9600   Pave   NaN      Reg   \n",
       "2   3          60       RL         68.0    11250   Pave   NaN      IR1   \n",
       "3   4          70       RL         60.0     9550   Pave   NaN      IR1   \n",
       "4   5          60       RL         84.0    14260   Pave   NaN      IR1   \n",
       "5   6          50       RL         85.0    14115   Pave   NaN      IR1   \n",
       "6   7          20       RL         75.0    10084   Pave   NaN      Reg   \n",
       "7   8          60       RL          NaN    10382   Pave   NaN      IR1   \n",
       "8   9          50       RM         51.0     6120   Pave   NaN      Reg   \n",
       "9  10         190       RL         50.0     7420   Pave   NaN      Reg   \n",
       "\n",
       "  LandContour Utilities    ...     PoolArea PoolQC  Fence MiscFeature MiscVal  \\\n",
       "0         Lvl    AllPub    ...            0    NaN    NaN         NaN       0   \n",
       "1         Lvl    AllPub    ...            0    NaN    NaN         NaN       0   \n",
       "2         Lvl    AllPub    ...            0    NaN    NaN         NaN       0   \n",
       "3         Lvl    AllPub    ...            0    NaN    NaN         NaN       0   \n",
       "4         Lvl    AllPub    ...            0    NaN    NaN         NaN       0   \n",
       "5         Lvl    AllPub    ...            0    NaN  MnPrv        Shed     700   \n",
       "6         Lvl    AllPub    ...            0    NaN    NaN         NaN       0   \n",
       "7         Lvl    AllPub    ...            0    NaN    NaN        Shed     350   \n",
       "8         Lvl    AllPub    ...            0    NaN    NaN         NaN       0   \n",
       "9         Lvl    AllPub    ...            0    NaN    NaN         NaN       0   \n",
       "\n",
       "  MoSold YrSold  SaleType  SaleCondition  SalePrice  \n",
       "0      2   2008        WD         Normal     208500  \n",
       "1      5   2007        WD         Normal     181500  \n",
       "2      9   2008        WD         Normal     223500  \n",
       "3      2   2006        WD        Abnorml     140000  \n",
       "4     12   2008        WD         Normal     250000  \n",
       "5     10   2009        WD         Normal     143000  \n",
       "6      8   2007        WD         Normal     307000  \n",
       "7     11   2009        WD         Normal     200000  \n",
       "8      4   2008        WD        Abnorml     129900  \n",
       "9      1   2008        WD         Normal     118000  \n",
       "\n",
       "[10 rows x 81 columns]"
      ]
     },
     "execution_count": 3,
     "metadata": {},
     "output_type": "execute_result"
    }
   ],
   "source": [
    "#Import dataset and look at what information we are dealing with\n",
    "houses = pd.read_csv(\"C:\\\\Users\\\\Jeroen\\\\Desktop\\\\Kaggle Datasets\\\\House Prices\\\\Excel Files\\\\train.csv\", header = 0)\n",
    "houses.head(10)\n"
   ]
  },
  {
   "cell_type": "markdown",
   "metadata": {},
   "source": [
    "### What does it mean!?!?!?\n",
    "\n",
    "There are clearly many values that do not make sense for now. The meaning of all values are explained in the textfile which accompanied the dataset. Let's first check the dimensions of this dataset\n"
   ]
  },
  {
   "cell_type": "code",
   "execution_count": 4,
   "metadata": {},
   "outputs": [
    {
     "name": "stdout",
     "output_type": "stream",
     "text": [
      "The data contains 1460 rows and 81 columns. That equals 118260 different cells with data\n"
     ]
    }
   ],
   "source": [
    "#Look at how much data we are exactly dealing with\n",
    "print(\"The data contains\", houses.shape[0],\"rows and\", houses.shape[1],\n",
    "      \"columns. That equals\", houses.size,\"different cells with data\")"
   ]
  },
  {
   "cell_type": "markdown",
   "metadata": {},
   "source": [
    "## Wow!\n",
    "That's a lot of data. From the header it seems that some columns contain many NaN's, which seems logical considering that not every house has certain features. Lets see what columns contain how many NaN's:"
   ]
  },
  {
   "cell_type": "code",
   "execution_count": 5,
   "metadata": {
    "scrolled": false
   },
   "outputs": [
    {
     "data": {
      "text/plain": [
       "LotFrontage      259\n",
       "Alley           1369\n",
       "MasVnrType         8\n",
       "MasVnrArea         8\n",
       "BsmtQual          37\n",
       "BsmtCond          37\n",
       "BsmtExposure      38\n",
       "BsmtFinType1      37\n",
       "BsmtFinType2      38\n",
       "Electrical         1\n",
       "FireplaceQu      690\n",
       "GarageType        81\n",
       "GarageYrBlt       81\n",
       "GarageFinish      81\n",
       "GarageQual        81\n",
       "GarageCond        81\n",
       "PoolQC          1453\n",
       "Fence           1179\n",
       "MiscFeature     1406\n",
       "dtype: int64"
      ]
     },
     "execution_count": 5,
     "metadata": {},
     "output_type": "execute_result"
    }
   ],
   "source": [
    "columns_na = houses.isna().sum()\n",
    "columns_na[columns_na > 0]"
   ]
  },
  {
   "cell_type": "code",
   "execution_count": 6,
   "metadata": {},
   "outputs": [],
   "source": [
    "#There are many NA's in several categories which are not really NA's. Let's adress this. \n",
    "\n",
    "#Alley\n",
    "houses[\"Alley\"] = houses[\"Alley\"].fillna(value = \"NoAlley\")\n",
    "\n",
    "#Basement\n",
    "houses[\"BsmtQual\"] = houses[\"BsmtQual\"].fillna(value = \"NoBsmt\")\n",
    "houses[\"BsmtQual\"] = houses[\"BsmtQual\"].fillna(value = \"NoBsmt\")\n",
    "houses[\"BsmtExposure\"] = houses[\"BsmtExposure\"].fillna(value = \"NoBsmt\")\n",
    "houses[\"BsmtFinType1\"] = houses[\"BsmtFinType1\"].fillna(value = \"NoBsmt\")\n",
    "houses[\"BsmtFinType2\"] = houses[\"BsmtFinType2\"].fillna(value = \"NoBsmt\")\n",
    "houses[\"BsmtCond\"] = houses[\"BsmtCond\"].fillna(value = \"NoBsmt\")\n",
    "\n",
    "#Fireplace\n",
    "houses[\"FireplaceQu\"] = houses[\"FireplaceQu\"].fillna(value = \"NoFirePlace\")\n",
    "\n",
    "#Garage\n",
    "houses[\"GarageType\"] = houses[\"GarageType\"].fillna(value = \"NoGarage\")\n",
    "houses[\"GarageYrBlt\"] = houses[\"GarageYrBlt\"].fillna(value = \"NoGarage\")\n",
    "houses[\"GarageFinish\"] = houses[\"GarageFinish\"].fillna(value = \"NoGarage\")\n",
    "houses[\"GarageQual\"] = houses[\"GarageQual\"].fillna(value = \"NoGarage\")\n",
    "houses[\"GarageCond\"] = houses[\"GarageCond\"].fillna(value = \"NoGarage\")\n",
    "\n",
    "#Pool\n",
    "houses[\"PoolQC\"] = houses[\"PoolQC\"].fillna(value = \"NoPool\")\n",
    "\n",
    "#Fence\n",
    "houses[\"Fence\"] = houses[\"Fence\"].fillna(value = \"NoFence\")\n",
    "\n",
    "#Misc\n",
    "houses[\"MiscFeature\"] = houses[\"MiscFeature\"].fillna(value = \"NoMisc\")"
   ]
  },
  {
   "cell_type": "code",
   "execution_count": 7,
   "metadata": {},
   "outputs": [
    {
     "data": {
      "text/plain": [
       "LotFrontage    259\n",
       "MasVnrType       8\n",
       "MasVnrArea       8\n",
       "Electrical       1\n",
       "dtype: int64"
      ]
     },
     "execution_count": 7,
     "metadata": {},
     "output_type": "execute_result"
    }
   ],
   "source": [
    "columns_na = houses.isna().sum()\n",
    "columns_na[columns_na > 0]"
   ]
  },
  {
   "cell_type": "code",
   "execution_count": 8,
   "metadata": {},
   "outputs": [
    {
     "data": {
      "text/plain": [
       "<matplotlib.axes._subplots.AxesSubplot at 0x27334b04ac8>"
      ]
     },
     "execution_count": 8,
     "metadata": {},
     "output_type": "execute_result"
    },
    {
     "data": {
      "image/png": "[encoded data removed]",
      "text/plain": [
       "<Figure size 432x288 with 1 Axes>"
      ]
     },
     "metadata": {
      "needs_background": "light"
     },
     "output_type": "display_data"
    }
   ],
   "source": [
    "LotsFrontage_noNA = (houses[\"LotFrontage\"]).isna()\n",
    "LotsFrontage_noNA = houses[LotsFrontage_noNA == False]\n",
    "LotsFrontage_noNA = (LotsFrontage_noNA[\"LotFrontage\"])\n",
    "sns.distplot(LotsFrontage_noNA)"
   ]
  },
  {
   "cell_type": "code",
   "execution_count": 9,
   "metadata": {},
   "outputs": [],
   "source": [
    "#replace LotFrontage NA's with mean depending on MSSubClass and MSZoning  \n",
    "#First group by MSSubClass & MSZoning\n",
    "Grouped_LotFrontages = houses.groupby(['MSSubClass', 'MSZoning']).mean()\n",
    "\n",
    "#only specify LotFrontage in the dataset\n",
    "Grouped_LotFrontages = pd.DataFrame(Grouped_LotFrontages.iloc[:, 1])\n",
    "\n",
    "#Change index to sequential nr\n",
    "Grouped_LotFrontages['index1'] = Grouped_LotFrontages.index\n",
    "Grouped_LotFrontages.index = range(0, len(Grouped_LotFrontages))\n",
    "\n",
    "#Specify columns for MSSubClass and MSZoning\n",
    "Grouped_LotFrontages['MSSubClass'] = Grouped_LotFrontages['index1'].str[0]\n",
    "Grouped_LotFrontages['MSZoning'] = Grouped_LotFrontages['index1'].str[1]\n",
    "Grouped_LotFrontages = Grouped_LotFrontages.drop(columns = \"index1\")\n"
   ]
  },
  {
   "cell_type": "code",
   "execution_count": 10,
   "metadata": {},
   "outputs": [],
   "source": [
    "#Split the dataframe into a part with NA's and without\n",
    "LotsFrontage_noNA = (houses[\"LotFrontage\"]).isna()\n",
    "LotsFrontage_NA = houses[LotsFrontage_noNA == True]\n",
    "LotsFrontage_noNA = houses[LotsFrontage_noNA == False]\n"
   ]
  },
  {
   "cell_type": "code",
   "execution_count": 11,
   "metadata": {},
   "outputs": [],
   "source": [
    "# Add the grouped values to the dataframe with NA's and fill NA's\n",
    "Grouped_LotFrontages = Grouped_LotFrontages.rename(columns={'LotFrontage':'New_LotFrontage'})\n",
    "LotsFrontage_NA = LotsFrontage_NA.merge(Grouped_LotFrontages, on=['MSZoning', 'MSSubClass'], how='left')\n",
    "LotsFrontage_NA[\"LotFrontage\"] = LotsFrontage_NA[\"New_LotFrontage\"]\n",
    "LotsFrontage_NA = LotsFrontage_NA.drop(columns = \"New_LotFrontage\")"
   ]
  },
  {
   "cell_type": "code",
   "execution_count": 12,
   "metadata": {},
   "outputs": [
    {
     "data": {
      "text/plain": [
       "<matplotlib.axes._subplots.AxesSubplot at 0x27334bccc50>"
      ]
     },
     "execution_count": 12,
     "metadata": {},
     "output_type": "execute_result"
    },
    {
     "data": {
      "image/png": "[encoded data removed]",
      "text/plain": [
       "<Figure size 432x288 with 1 Axes>"
      ]
     },
     "metadata": {
      "needs_background": "light"
     },
     "output_type": "display_data"
    }
   ],
   "source": [
    "#combine the 2 dataframes back together again\n",
    "houses = pd.concat([LotsFrontage_NA, LotsFrontage_noNA])\n",
    "sns.distplot(houses[\"LotFrontage\"])"
   ]
  },
  {
   "cell_type": "code",
   "execution_count": 13,
   "metadata": {},
   "outputs": [],
   "source": [
    "#For the other columns with NA's, impede by their most frequent value or 0\n",
    "cols_with_missing1 = [col for col in houses.columns if houses[col].isnull().any()]\n",
    "for col in cols_with_missing1:\n",
    "    if houses[col].dtype == np.dtype('O'):\n",
    "         houses[col]= houses[col].fillna(houses[col].value_counts().index[0]) \n",
    "   #replace nan with most frequent\n",
    "    else:\n",
    "        houses[col] = houses[col].fillna(0) \n",
    "cols_with_missing1 = [col for col in houses.columns if houses[col].isnull().any()]"
   ]
  },
  {
   "cell_type": "code",
   "execution_count": 14,
   "metadata": {},
   "outputs": [],
   "source": [
    "#Turn all categories into numerical values so a random forest can be used\n",
    "houses_dt = houses\n",
    "dt_columns = houses_dt.columns\n",
    "for col in dt_columns:\n",
    "    if houses_dt[col].dtype == np.dtype('O'):\n",
    "        houses_dt[col] = pd.Categorical(houses_dt[col])\n",
    "        houses_dt[col] = houses_dt[col].cat.codes"
   ]
  },
  {
   "cell_type": "code",
   "execution_count": 15,
   "metadata": {},
   "outputs": [
    {
     "name": "stdout",
     "output_type": "stream",
     "text": [
      "                 importance\n",
      "OverallQual    6.361709e-01\n",
      "GrLivArea      1.036905e-01\n",
      "2ndFlrSF       3.760607e-02\n",
      "TotalBsmtSF    3.208637e-02\n",
      "1stFlrSF       2.214920e-02\n",
      "BsmtFinSF1     2.090288e-02\n",
      "Neighborhood   1.467163e-02\n",
      "GarageCars     1.270953e-02\n",
      "GarageArea     1.011479e-02\n",
      "LotFrontage    8.994474e-03\n",
      "BsmtUnfSF      8.241720e-03\n",
      "CentralAir     6.434221e-03\n",
      "MasVnrType     6.007774e-03\n",
      "YearBuilt      5.889845e-03\n",
      "KitchenAbvGr   5.803274e-03\n",
      "GarageType     5.597419e-03\n",
      "LotArea        5.343224e-03\n",
      "SaleCondition  3.636058e-03\n",
      "WoodDeckSF     3.434795e-03\n",
      "YearRemodAdd   3.387588e-03\n",
      "BsmtExposure   3.154876e-03\n",
      "OverallCond    3.082003e-03\n",
      "ExterQual      2.695110e-03\n",
      "Exterior1st    2.674259e-03\n",
      "MoSold         2.587142e-03\n",
      "GarageYrBlt    2.576058e-03\n",
      "BsmtCond       2.368331e-03\n",
      "FullBath       2.356093e-03\n",
      "OpenPorchSF    2.140949e-03\n",
      "Id             2.138147e-03\n",
      "...                     ...\n",
      "LotShape       4.056086e-04\n",
      "PavedDrive     4.051547e-04\n",
      "Fireplaces     4.012679e-04\n",
      "Fence          3.221855e-04\n",
      "3SsnPorch      2.943449e-04\n",
      "HeatingQC      2.822695e-04\n",
      "BsmtFinSF2     2.817155e-04\n",
      "ScreenPorch    2.418687e-04\n",
      "LotConfig      2.207072e-04\n",
      "SaleType       1.965003e-04\n",
      "Condition1     1.428136e-04\n",
      "MiscVal        1.143799e-04\n",
      "Foundation     1.117805e-04\n",
      "Alley          9.581724e-05\n",
      "Heating        8.175140e-05\n",
      "HouseStyle     6.570421e-05\n",
      "GarageQual     6.401214e-05\n",
      "PoolQC         5.960869e-05\n",
      "MiscFeature    4.666577e-05\n",
      "BsmtFinType2   3.692928e-05\n",
      "GarageCond     2.947657e-05\n",
      "BldgType       1.832531e-05\n",
      "BsmtHalfBath   1.726722e-05\n",
      "Electrical     1.581598e-05\n",
      "Street         3.969548e-06\n",
      "Condition2     4.887102e-07\n",
      "RoofMatl       1.221775e-07\n",
      "PoolArea       0.000000e+00\n",
      "LowQualFinSF   0.000000e+00\n",
      "Utilities      0.000000e+00\n",
      "\n",
      "[80 rows x 1 columns]\n"
     ]
    }
   ],
   "source": [
    "#Tree packages for checking the feature importance\n",
    "from sklearn.tree import DecisionTreeRegressor \n",
    "dt = DecisionTreeRegressor() \n",
    "\n",
    "train_dt_x = houses_dt.loc[:, houses_dt.columns != 'SalePrice']\n",
    "# Build a decision tree and compute the feature importances\n",
    "dt.fit(train_dt_x, houses_dt[\"SalePrice\"]) \n",
    "\n",
    "feature_importances = pd.DataFrame(dt.feature_importances_,\n",
    "                                   index = train_dt_x.columns,\n",
    "                                    columns=['importance']).sort_values('importance',\n",
    "                                                                        ascending=False)\n",
    "print(feature_importances)"
   ]
  },
  {
   "cell_type": "markdown",
   "metadata": {},
   "source": [
    "### Overall Quality!\n",
    "Who would have guessed! Overall quality is the best predictor for house prices. Also the living area in square feet seem usefull. What a surprise! Lets compare how the values of these 3 variables are distributed over the observations!"
   ]
  },
  {
   "cell_type": "code",
   "execution_count": 16,
   "metadata": {},
   "outputs": [
    {
     "data": {
      "image/png": "[encoded data removed]",
      "text/plain": [
       "<Figure size 432x288 with 1 Axes>"
      ]
     },
     "metadata": {
      "needs_background": "light"
     },
     "output_type": "display_data"
    },
    {
     "data": {
      "image/png": "[encoded data removed]",
      "text/plain": [
       "<Figure size 432x288 with 1 Axes>"
      ]
     },
     "metadata": {
      "needs_background": "light"
     },
     "output_type": "display_data"
    },
    {
     "data": {
      "image/png": "[encoded data removed]",
      "text/plain": [
       "<Figure size 432x288 with 1 Axes>"
      ]
     },
     "metadata": {
      "needs_background": "light"
     },
     "output_type": "display_data"
    }
   ],
   "source": [
    "#Plot a histogram for saleprice\n",
    "plt.hist(houses[\"SalePrice\"], bins = 30, color = \"blue\")\n",
    "plt.title(\"Sale Price Frequency\")\n",
    "plt.show()\n",
    "\n",
    "#Plot a histogram for the overall quality grades\n",
    "plt.hist(houses[\"OverallQual\"], bins = 10,  color = \"orange\")\n",
    "plt.title(\"House Quality Frequency\")\n",
    "plt.show()\n",
    "\n",
    "#Plot a histogram for size of the living area\n",
    "plt.hist(houses[\"GrLivArea\"], bins = 40, color = \"green\")\n",
    "plt.title(\"Living Area Size Frequency\")\n",
    "plt.show()\n"
   ]
  },
  {
   "cell_type": "code",
   "execution_count": 17,
   "metadata": {},
   "outputs": [
    {
     "data": {
      "text/html": [
       "<div>\n",
       "<style scoped>\n",
       "    .dataframe tbody tr th:only-of-type {\n",
       "        vertical-align: middle;\n",
       "    }\n",
       "\n",
       "    .dataframe tbody tr th {\n",
       "        vertical-align: top;\n",
       "    }\n",
       "\n",
       "    .dataframe thead th {\n",
       "        text-align: right;\n",
       "    }\n",
       "</style>\n",
       "<table border=\"1\" class=\"dataframe\">\n",
       "  <thead>\n",
       "    <tr style=\"text-align: right;\">\n",
       "      <th></th>\n",
       "      <th>Id</th>\n",
       "      <th>MSSubClass</th>\n",
       "      <th>MSZoning</th>\n",
       "      <th>LotFrontage</th>\n",
       "      <th>LotArea</th>\n",
       "      <th>Street</th>\n",
       "      <th>Alley</th>\n",
       "      <th>LotShape</th>\n",
       "      <th>LandContour</th>\n",
       "      <th>Utilities</th>\n",
       "      <th>...</th>\n",
       "      <th>PoolArea</th>\n",
       "      <th>PoolQC</th>\n",
       "      <th>Fence</th>\n",
       "      <th>MiscFeature</th>\n",
       "      <th>MiscVal</th>\n",
       "      <th>MoSold</th>\n",
       "      <th>YrSold</th>\n",
       "      <th>SaleType</th>\n",
       "      <th>SaleCondition</th>\n",
       "      <th>SalePrice</th>\n",
       "    </tr>\n",
       "  </thead>\n",
       "  <tbody>\n",
       "    <tr>\n",
       "      <th>0</th>\n",
       "      <td>8</td>\n",
       "      <td>60</td>\n",
       "      <td>3</td>\n",
       "      <td>81.621359</td>\n",
       "      <td>10382</td>\n",
       "      <td>1</td>\n",
       "      <td>1</td>\n",
       "      <td>0</td>\n",
       "      <td>3</td>\n",
       "      <td>0</td>\n",
       "      <td>...</td>\n",
       "      <td>0</td>\n",
       "      <td>3</td>\n",
       "      <td>4</td>\n",
       "      <td>3</td>\n",
       "      <td>350</td>\n",
       "      <td>11</td>\n",
       "      <td>2009</td>\n",
       "      <td>8</td>\n",
       "      <td>4</td>\n",
       "      <td>200000</td>\n",
       "    </tr>\n",
       "    <tr>\n",
       "      <th>1</th>\n",
       "      <td>13</td>\n",
       "      <td>20</td>\n",
       "      <td>3</td>\n",
       "      <td>78.065693</td>\n",
       "      <td>12968</td>\n",
       "      <td>1</td>\n",
       "      <td>1</td>\n",
       "      <td>1</td>\n",
       "      <td>3</td>\n",
       "      <td>0</td>\n",
       "      <td>...</td>\n",
       "      <td>0</td>\n",
       "      <td>3</td>\n",
       "      <td>4</td>\n",
       "      <td>1</td>\n",
       "      <td>0</td>\n",
       "      <td>9</td>\n",
       "      <td>2008</td>\n",
       "      <td>8</td>\n",
       "      <td>4</td>\n",
       "      <td>144000</td>\n",
       "    </tr>\n",
       "    <tr>\n",
       "      <th>2</th>\n",
       "      <td>15</td>\n",
       "      <td>20</td>\n",
       "      <td>3</td>\n",
       "      <td>78.065693</td>\n",
       "      <td>10920</td>\n",
       "      <td>1</td>\n",
       "      <td>1</td>\n",
       "      <td>0</td>\n",
       "      <td>3</td>\n",
       "      <td>0</td>\n",
       "      <td>...</td>\n",
       "      <td>0</td>\n",
       "      <td>3</td>\n",
       "      <td>1</td>\n",
       "      <td>1</td>\n",
       "      <td>0</td>\n",
       "      <td>5</td>\n",
       "      <td>2008</td>\n",
       "      <td>8</td>\n",
       "      <td>4</td>\n",
       "      <td>157000</td>\n",
       "    </tr>\n",
       "    <tr>\n",
       "      <th>3</th>\n",
       "      <td>17</td>\n",
       "      <td>20</td>\n",
       "      <td>3</td>\n",
       "      <td>78.065693</td>\n",
       "      <td>11241</td>\n",
       "      <td>1</td>\n",
       "      <td>1</td>\n",
       "      <td>0</td>\n",
       "      <td>3</td>\n",
       "      <td>0</td>\n",
       "      <td>...</td>\n",
       "      <td>0</td>\n",
       "      <td>3</td>\n",
       "      <td>4</td>\n",
       "      <td>3</td>\n",
       "      <td>700</td>\n",
       "      <td>3</td>\n",
       "      <td>2010</td>\n",
       "      <td>8</td>\n",
       "      <td>4</td>\n",
       "      <td>149000</td>\n",
       "    </tr>\n",
       "    <tr>\n",
       "      <th>4</th>\n",
       "      <td>25</td>\n",
       "      <td>20</td>\n",
       "      <td>3</td>\n",
       "      <td>78.065693</td>\n",
       "      <td>8246</td>\n",
       "      <td>1</td>\n",
       "      <td>1</td>\n",
       "      <td>0</td>\n",
       "      <td>3</td>\n",
       "      <td>0</td>\n",
       "      <td>...</td>\n",
       "      <td>0</td>\n",
       "      <td>3</td>\n",
       "      <td>2</td>\n",
       "      <td>1</td>\n",
       "      <td>0</td>\n",
       "      <td>5</td>\n",
       "      <td>2010</td>\n",
       "      <td>8</td>\n",
       "      <td>4</td>\n",
       "      <td>154000</td>\n",
       "    </tr>\n",
       "    <tr>\n",
       "      <th>5</th>\n",
       "      <td>32</td>\n",
       "      <td>20</td>\n",
       "      <td>3</td>\n",
       "      <td>78.065693</td>\n",
       "      <td>8544</td>\n",
       "      <td>1</td>\n",
       "      <td>1</td>\n",
       "      <td>0</td>\n",
       "      <td>3</td>\n",
       "      <td>0</td>\n",
       "      <td>...</td>\n",
       "      <td>0</td>\n",
       "      <td>3</td>\n",
       "      <td>2</td>\n",
       "      <td>1</td>\n",
       "      <td>0</td>\n",
       "      <td>6</td>\n",
       "      <td>2008</td>\n",
       "      <td>8</td>\n",
       "      <td>4</td>\n",
       "      <td>149350</td>\n",
       "    </tr>\n",
       "    <tr>\n",
       "      <th>6</th>\n",
       "      <td>43</td>\n",
       "      <td>85</td>\n",
       "      <td>3</td>\n",
       "      <td>71.571429</td>\n",
       "      <td>9180</td>\n",
       "      <td>1</td>\n",
       "      <td>1</td>\n",
       "      <td>0</td>\n",
       "      <td>3</td>\n",
       "      <td>0</td>\n",
       "      <td>...</td>\n",
       "      <td>0</td>\n",
       "      <td>3</td>\n",
       "      <td>2</td>\n",
       "      <td>1</td>\n",
       "      <td>0</td>\n",
       "      <td>12</td>\n",
       "      <td>2007</td>\n",
       "      <td>8</td>\n",
       "      <td>4</td>\n",
       "      <td>144000</td>\n",
       "    </tr>\n",
       "    <tr>\n",
       "      <th>7</th>\n",
       "      <td>44</td>\n",
       "      <td>20</td>\n",
       "      <td>3</td>\n",
       "      <td>78.065693</td>\n",
       "      <td>9200</td>\n",
       "      <td>1</td>\n",
       "      <td>1</td>\n",
       "      <td>0</td>\n",
       "      <td>3</td>\n",
       "      <td>0</td>\n",
       "      <td>...</td>\n",
       "      <td>0</td>\n",
       "      <td>3</td>\n",
       "      <td>2</td>\n",
       "      <td>1</td>\n",
       "      <td>0</td>\n",
       "      <td>7</td>\n",
       "      <td>2008</td>\n",
       "      <td>8</td>\n",
       "      <td>4</td>\n",
       "      <td>130250</td>\n",
       "    </tr>\n",
       "    <tr>\n",
       "      <th>8</th>\n",
       "      <td>51</td>\n",
       "      <td>60</td>\n",
       "      <td>3</td>\n",
       "      <td>81.621359</td>\n",
       "      <td>13869</td>\n",
       "      <td>1</td>\n",
       "      <td>1</td>\n",
       "      <td>1</td>\n",
       "      <td>3</td>\n",
       "      <td>0</td>\n",
       "      <td>...</td>\n",
       "      <td>0</td>\n",
       "      <td>3</td>\n",
       "      <td>4</td>\n",
       "      <td>1</td>\n",
       "      <td>0</td>\n",
       "      <td>7</td>\n",
       "      <td>2007</td>\n",
       "      <td>8</td>\n",
       "      <td>4</td>\n",
       "      <td>177000</td>\n",
       "    </tr>\n",
       "    <tr>\n",
       "      <th>9</th>\n",
       "      <td>65</td>\n",
       "      <td>60</td>\n",
       "      <td>3</td>\n",
       "      <td>81.621359</td>\n",
       "      <td>9375</td>\n",
       "      <td>1</td>\n",
       "      <td>1</td>\n",
       "      <td>3</td>\n",
       "      <td>3</td>\n",
       "      <td>0</td>\n",
       "      <td>...</td>\n",
       "      <td>0</td>\n",
       "      <td>3</td>\n",
       "      <td>0</td>\n",
       "      <td>1</td>\n",
       "      <td>0</td>\n",
       "      <td>2</td>\n",
       "      <td>2009</td>\n",
       "      <td>8</td>\n",
       "      <td>4</td>\n",
       "      <td>219500</td>\n",
       "    </tr>\n",
       "  </tbody>\n",
       "</table>\n",
       "<p>10 rows × 81 columns</p>\n",
       "</div>"
      ],
      "text/plain": [
       "   Id  MSSubClass  MSZoning  LotFrontage  LotArea  Street  Alley  LotShape  \\\n",
       "0   8          60         3    81.621359    10382       1      1         0   \n",
       "1  13          20         3    78.065693    12968       1      1         1   \n",
       "2  15          20         3    78.065693    10920       1      1         0   \n",
       "3  17          20         3    78.065693    11241       1      1         0   \n",
       "4  25          20         3    78.065693     8246       1      1         0   \n",
       "5  32          20         3    78.065693     8544       1      1         0   \n",
       "6  43          85         3    71.571429     9180       1      1         0   \n",
       "7  44          20         3    78.065693     9200       1      1         0   \n",
       "8  51          60         3    81.621359    13869       1      1         1   \n",
       "9  65          60         3    81.621359     9375       1      1         3   \n",
       "\n",
       "   LandContour  Utilities    ...      PoolArea  PoolQC  Fence  MiscFeature  \\\n",
       "0            3          0    ...             0       3      4            3   \n",
       "1            3          0    ...             0       3      4            1   \n",
       "2            3          0    ...             0       3      1            1   \n",
       "3            3          0    ...             0       3      4            3   \n",
       "4            3          0    ...             0       3      2            1   \n",
       "5            3          0    ...             0       3      2            1   \n",
       "6            3          0    ...             0       3      2            1   \n",
       "7            3          0    ...             0       3      2            1   \n",
       "8            3          0    ...             0       3      4            1   \n",
       "9            3          0    ...             0       3      0            1   \n",
       "\n",
       "   MiscVal  MoSold  YrSold  SaleType  SaleCondition  SalePrice  \n",
       "0      350      11    2009         8              4     200000  \n",
       "1        0       9    2008         8              4     144000  \n",
       "2        0       5    2008         8              4     157000  \n",
       "3      700       3    2010         8              4     149000  \n",
       "4        0       5    2010         8              4     154000  \n",
       "5        0       6    2008         8              4     149350  \n",
       "6        0      12    2007         8              4     144000  \n",
       "7        0       7    2008         8              4     130250  \n",
       "8        0       7    2007         8              4     177000  \n",
       "9        0       2    2009         8              4     219500  \n",
       "\n",
       "[10 rows x 81 columns]"
      ]
     },
     "execution_count": 17,
     "metadata": {},
     "output_type": "execute_result"
    }
   ],
   "source": [
    "houses.head(10)"
   ]
  },
  {
   "cell_type": "code",
   "execution_count": 18,
   "metadata": {},
   "outputs": [],
   "source": [
    "houses_sample = pd.DataFrame()\n",
    "houses_sample[\"LotArea\"] = houses[\"LotArea\"]\n",
    "houses_sample[\"TotRmsAbvGrd\"] = houses[\"TotRmsAbvGrd\"]\n",
    "houses_sample[\"OverallQual\"] = houses[\"OverallQual\"]\n",
    "houses_sample[\"Neighborhood\"] = houses[\"Neighborhood\"]\n",
    "houses_sample[\"OverallCond\"] = houses[\"OverallCond\"]\n",
    "houses_sample[\"SaleCondition\"] = houses[\"SaleCondition\"]\n",
    "houses_sample['SalePrice'] = houses['SalePrice']"
   ]
  },
  {
   "cell_type": "code",
   "execution_count": 19,
   "metadata": {},
   "outputs": [
    {
     "data": {
      "text/plain": [
       "<function matplotlib.pyplot.show(*args, **kw)>"
      ]
     },
     "execution_count": 19,
     "metadata": {},
     "output_type": "execute_result"
    },
    {
     "data": {
      "image/png": "[encoded data removed]",
      "text/plain": [
       "<Figure size 432x288 with 1 Axes>"
      ]
     },
     "metadata": {
      "needs_background": "light"
     },
     "output_type": "display_data"
    }
   ],
   "source": [
    "plt.hist(houses[\"OverallQual\"])\n",
    "plt.show\n",
    "\n",
    "plt.hist(houses[\"OverallCond\"])\n",
    "plt.show"
   ]
  },
  {
   "cell_type": "markdown",
   "metadata": {},
   "source": [
    "### Quick Tryouts\n",
    "Let's run some quick regressions to see whether the full dataset is a better fit than the smaller one!"
   ]
  },
  {
   "cell_type": "code",
   "execution_count": 20,
   "metadata": {},
   "outputs": [],
   "source": [
    "#Make training and testsets\n",
    "from sklearn import preprocessing\n",
    "from sklearn.model_selection import train_test_split\n",
    "\n",
    "x_train, x_test, y_train, y_test = train_test_split(houses.loc[:, houses.columns != 'SalePrice'], houses[\"SalePrice\"], test_size=0.3)\n"
   ]
  },
  {
   "cell_type": "code",
   "execution_count": 21,
   "metadata": {},
   "outputs": [
    {
     "name": "stdout",
     "output_type": "stream",
     "text": [
      "Lasso RMSE: 4479685178.520491\n",
      "Accuracy Lasso: 0.11781930317711053\n"
     ]
    }
   ],
   "source": [
    "#Run a Lasso Regression\n",
    "from sklearn.linear_model import Lasso\n",
    "from sklearn.metrics import mean_squared_error\n",
    "\n",
    "model2 = Lasso()\n",
    "model2.fit(X=x_train, y=y_train)\n",
    "y_pred2 = model2.predict(x_test)\n",
    "rmse_lasso = mean_squared_error(y_pred2, y_test)\n",
    "print(\"Lasso RMSE: {}\".format(rmse_lasso))\n",
    "accuracy_lasso = model2.score(x_test,y_test)\n",
    "print(\"Accuracy Lasso: {}\".format(accuracy_lasso))"
   ]
  },
  {
   "cell_type": "code",
   "execution_count": 22,
   "metadata": {},
   "outputs": [
    {
     "name": "stdout",
     "output_type": "stream",
     "text": [
      "Ridge RMSE: 2274876738.1194167\n",
      "Accuracy Ridge: 0.5520104056323053\n"
     ]
    }
   ],
   "source": [
    "#Run a Ridge Regression\n",
    "from sklearn.linear_model import Ridge\n",
    "\n",
    "model3 = Ridge(alpha = 1 , solver = \"cholesky\")\n",
    "model3.fit(X=x_train, y=y_train)\n",
    "y_pred3 = model3.predict(x_test)\n",
    "rmse_ridge = mean_squared_error(y_pred3, y_test)\n",
    "print(\"Ridge RMSE: {}\".format(rmse_ridge))\n",
    "accuracy_ridge = model3.score(x_test,y_test)\n",
    "print(\"Accuracy Ridge: {}\".format(accuracy_ridge))"
   ]
  },
  {
   "cell_type": "code",
   "execution_count": 23,
   "metadata": {},
   "outputs": [],
   "source": [
    "#Make training and testsets from the sampled columns\n",
    "\n",
    "x_train, x_test, y_train, y_test = train_test_split(houses_sample.loc[:, houses_sample.columns != 'SalePrice'], houses_sample[\"SalePrice\"], test_size=0.3)"
   ]
  },
  {
   "cell_type": "code",
   "execution_count": 24,
   "metadata": {},
   "outputs": [
    {
     "name": "stdout",
     "output_type": "stream",
     "text": [
      "Lasso RMSE: 1924403583.8365307\n",
      "Accuracy Lasso: 0.6858330814243092\n"
     ]
    }
   ],
   "source": [
    "#Run a Lasso Regression\n",
    "model2 = Lasso()\n",
    "model2.fit(X=x_train, y=y_train)\n",
    "y_pred2 = model2.predict(x_test)\n",
    "rmse_lasso = mean_squared_error(y_pred2, y_test)\n",
    "print(\"Lasso RMSE: {}\".format(rmse_lasso))\n",
    "accuracy_lasso = model2.score(x_test,y_test)\n",
    "print(\"Accuracy Lasso: {}\".format(accuracy_lasso))"
   ]
  },
  {
   "cell_type": "code",
   "execution_count": 25,
   "metadata": {},
   "outputs": [
    {
     "name": "stdout",
     "output_type": "stream",
     "text": [
      "Ridge RMSE: 1924219889.7916496\n",
      "Accuracy Ridge: 0.6858630702439756\n"
     ]
    }
   ],
   "source": [
    "#Run a Ridge Regression\n",
    "model3 = Ridge(alpha = 1 , solver = \"cholesky\")\n",
    "model3.fit(X=x_train, y=y_train)\n",
    "y_pred3 = model3.predict(x_test)\n",
    "rmse_ridge = mean_squared_error(y_pred3, y_test)\n",
    "print(\"Ridge RMSE: {}\".format(rmse_ridge))\n",
    "accuracy_ridge = model3.score(x_test,y_test)\n",
    "print(\"Accuracy Ridge: {}\".format(accuracy_ridge))"
   ]
  },
  {
   "cell_type": "code",
   "execution_count": null,
   "metadata": {},
   "outputs": [],
   "source": []
  }
 ],
 "metadata": {
  "kernelspec": {
   "display_name": "Python 3",
   "language": "python",
   "name": "python3"
  },
  "language_info": {
   "codemirror_mode": {
    "name": "ipython",
    "version": 3
   },
   "file_extension": ".py",
   "mimetype": "text/x-python",
   "name": "python",
   "nbconvert_exporter": "python",
   "pygments_lexer": "ipython3",
   "version": "3.7.0"
  }
 },
 "nbformat": 4,
 "nbformat_minor": 2
}
